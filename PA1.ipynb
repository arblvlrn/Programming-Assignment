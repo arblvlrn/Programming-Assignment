{
 "cells": [
  {
   "cell_type": "markdown",
   "id": "4f0c4cca-a84e-471e-9d2d-3c20d881e5f6",
   "metadata": {},
   "source": [
    "# EXPERIMENT 1: INTRODUCTION TO PYTHON PROGRAMMING"
   ]
  },
  {
   "cell_type": "markdown",
   "id": "4f0ddf00-0eaf-4386-b3ec-c793765d4f90",
   "metadata": {},
   "source": [
    "#### Name: Arabelle Y. Villarin\n",
    "#### Section: 2ECE-D‎ ‎ ‎ ‎ ‎ ‎ ‎ ‎ ‎ ‎ ‎ ‎ ‎ ‎ ‎ ‎ ‎ ‎ ‎ ‎‎ ‎ ‎ ‎ ‎ ‎ ‎ ‎  ‎ ‎ ‎ ‎ ‎‎ ‎  ‎ ‎ ‎ ‎ ‎ ‎ ‎ ‎ Date Submitted: August 29, 2024"
   ]
  },
  {
   "cell_type": "markdown",
   "id": "4b50d21c-7acd-4a1b-b872-2cbf2a29470f",
   "metadata": {},
   "source": [
    "‎ "
   ]
  },
  {
   "cell_type": "markdown",
   "id": "13694808-1c5a-4082-8e7c-162fef9a2e9a",
   "metadata": {},
   "source": [
    "#### ALPHABET SOUP PROBLEM: Create a function that takes a string and returns a string with its letters in alphabetical order."
   ]
  },
  {
   "cell_type": "code",
   "execution_count": 137,
   "id": "7e7a6766-47cd-4d17-87bc-42b226c63095",
   "metadata": {},
   "outputs": [
    {
     "name": "stdout",
     "output_type": "stream",
     "text": [
      "aaacccdeefgiiiiiiillloopprrssstuux\n"
     ]
    }
   ],
   "source": [
    "#create a function\n",
    "def alphabet_soup(x):\n",
    "    #makes the list sorted\n",
    "    alphabet = ''.join(sorted(x)) \n",
    "    return alphabet\n",
    "#input the word to be arranged    \n",
    "result = alphabet_soup(\"supercalifragilisticexpialidocious\") \n",
    "\n",
    "#print the result\n",
    "print(result) "
   ]
  },
  {
   "cell_type": "markdown",
   "id": "338c75ab-ff79-49db-a341-c0a9454e9e91",
   "metadata": {},
   "source": [
    " "
   ]
  },
  {
   "cell_type": "markdown",
   "id": "ffd28402-6509-4bf6-bcd3-868042efdd88",
   "metadata": {},
   "source": [
    "#### EMOTICON PROBLEM: Create a function that changes specific words into emoticons. Given a sentence as a string, replace the words smile, grin, sad and mad with their corresponding emoticon."
   ]
  },
  {
   "cell_type": "code",
   "execution_count": 100,
   "id": "90c071ad-6b67-42a6-9e6f-9130fcf18bbd",
   "metadata": {},
   "outputs": [
    {
     "name": "stdout",
     "output_type": "stream",
     "text": [
      "I always :) and :D but I'm :(( or >:( too sometimes\n"
     ]
    }
   ],
   "source": [
    "def replace(sentence):\n",
    "    \n",
    "    #create a dictionary to map words\n",
    "    emoticon_map = {\n",
    "        'smile': ':)',\n",
    "        'grin': ':D',\n",
    "        'sad': ':((',\n",
    "        'mad': '>:('}\n",
    "\n",
    "    #loop each word\n",
    "    for word, emoticon in emoticon_map.items():\n",
    "        \n",
    "        #replace the words with the emoticon\n",
    "        sentence = sentence.replace(word, emoticon)\n",
    "        \n",
    "    return sentence\n",
    "\n",
    "#input the sentence\n",
    "input = \"I always smile and grin but I'm sad or mad too sometimes\"\n",
    "\n",
    "#call replace funtion and input the result\n",
    "result = replace(input)\n",
    "\n",
    "#print the result\n",
    "print(result)"
   ]
  },
  {
   "cell_type": "markdown",
   "id": "69a15204-af52-4577-a686-e57b0f8537ca",
   "metadata": {},
   "source": [
    " "
   ]
  },
  {
   "cell_type": "markdown",
   "id": "70d2ae59-9550-4752-8088-f7efc060affe",
   "metadata": {},
   "source": [
    "#### UNPACKING LIST PROBLEM: Unpack the list writeyourcodehere into three variables, being first, middle, and last, with middle being everything in between the first and last element. Then print all three variables."
   ]
  },
  {
   "cell_type": "code",
   "execution_count": 104,
   "id": "b60141cb-bab1-431e-b878-886116f8b194",
   "metadata": {},
   "outputs": [
    {
     "name": "stdout",
     "output_type": "stream",
     "text": [
      "first: Ragdoll   middle: ['Persian', 'Siamese', 'Sphynx']   last: Himalayan\n"
     ]
    }
   ],
   "source": [
    "#make a list to unpack\n",
    "cat_breed = [\"Ragdoll\", \"Persian\", \"Siamese\", \"Sphynx\", \"Himalayan\"]\n",
    "\n",
    "def unpack(cat):\n",
    "    first = cat[0] #stores the first element\n",
    "    cat.pop(0) #pops the first element\n",
    "    middle = cat #stores the variables between the first and last elements\n",
    "    last = cat[-1] #stores the last element\n",
    "    cat.pop(-1) #pops the second element\n",
    "\n",
    "    #print the result\n",
    "    print(\"first:\", first, \"  middle:\", middle, \"  last:\", last)\n",
    "\n",
    "unpack(cat_breed)"
   ]
  }
 ],
 "metadata": {
  "kernelspec": {
   "display_name": "anaconda-panel-2023.05-py310",
   "language": "python",
   "name": "conda-env-anaconda-panel-2023.05-py310-py"
  },
  "language_info": {
   "codemirror_mode": {
    "name": "ipython",
    "version": 3
   },
   "file_extension": ".py",
   "mimetype": "text/x-python",
   "name": "python",
   "nbconvert_exporter": "python",
   "pygments_lexer": "ipython3",
   "version": "3.11.5"
  }
 },
 "nbformat": 4,
 "nbformat_minor": 5
}
